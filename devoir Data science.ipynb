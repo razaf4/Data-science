{
  "metadata": {
    "kernelspec": {
      "name": "python",
      "display_name": "Python (Pyodide)",
      "language": "python"
    },
    "language_info": {
      "codemirror_mode": {
        "name": "python",
        "version": 3
      },
      "file_extension": ".py",
      "mimetype": "text/x-python",
      "name": "python",
      "nbconvert_exporter": "python",
      "pygments_lexer": "ipython3",
      "version": "3.8"
    }
  },
  "nbformat_minor": 5,
  "nbformat": 4,
  "cells": [
    {
      "id": "0d71c288-1d8f-4c66-ba01-a088cd19a152",
      "cell_type": "markdown",
      "source": "# THIS IS THE TITLE OF EXERCISE",
      "metadata": {}
    },
    {
      "id": "44f3d498-adae-48e4-a1db-7e5a73d9cf38",
      "cell_type": "markdown",
      "source": "# Introduction  \nWelcome to this JupyterLite notebook!  \nHere we'll explore the basics of using notebooks, including Markdown and Code cells.",
      "metadata": {}
    },
    {
      "id": "21b205d3-b647-49c6-b60b-e63e2ed4d307",
      "cell_type": "markdown",
      "source": "# Data Science Languages  \n\nHere are some commonly used languages ​​in data science:  \n\n- **Python** 🐍: Most popular for data analysis, machine learning and AI.  \n- **R** 📊: Used mainly for statistics and data visualization.  \n- **SQL** 🗄️: Essential for manipulating and querying databases.  \n- **Julia** 🚀: Powerful for scientific computing and massive data processing.  \n- **Scala** 🔥: Used with Apache Spark for Big Data.  \n- **Java** ☕: Often used in production systems for machine learning.  \n- **MATLAB** 📈: Commonly used in engineering and mathematical modeling.",
      "metadata": {}
    },
    {
      "id": "00af711f-243e-4302-9c98-e19adaeb3a2d",
      "cell_type": "markdown",
      "source": "# Data Science Libraries  \n\nHere are some popular libraries used in data science:  \n\n- **NumPy** 🔢 : Array manipulation and numerical computations.  \n- **Pandas** 🐼 : Data analysis and manipulation.  \n- **Matplotlib** 📊 : Data visualization with plots and charts.  \n- **Seaborn** 🎨 : Advanced statistical visualization.  \n- **Scikit-learn** 🤖 : Machine learning and modeling.  \n- **TensorFlow** 🔥 : Deep learning and artificial intelligence.  \n- **PyTorch** ⚡ : Deep learning and data processing.  \n- **Statsmodels** 📈 : Statistical modeling and tests.  \n- **NLTK / spaCy** 🗣️ : Natural Language Processing (NLP).  \n",
      "metadata": {}
    },
    {
      "id": "a43e1ff4-ba49-4735-8aeb-564de6d21c70",
      "cell_type": "markdown",
      "source": "# Data Science Tools  \n\nBelow is a table listing some popular data science tools and their purposes:  \n\n| Tool           | Category               | Description |\n|---------------|----------------------|-------------|\n| **Jupyter Notebook** | Interactive Environment | Used for writing and running code, documentation, and visualization. |\n| **Google Colab** | Cloud-based Notebook | Jupyter Notebook in the cloud with GPU support. |\n| **Apache Spark** | Big Data Processing | Fast and distributed data processing engine. |\n| **Hadoop** | Big Data Storage | Framework for storing and processing large datasets. |\n| **Tableau** | Data Visualization | Business intelligence tool for creating interactive dashboards. |\n| **Power BI** | Data Visualization | Microsoft’s tool for data analysis and reporting. |\n| **Excel** | Data Analysis | Spreadsheet tool for data manipulation and visualization. \n",
      "metadata": {}
    },
    {
      "id": "a317b6b8-4571-4d73-9c81-d8b856e0e405",
      "cell_type": "markdown",
      "source": "# Examples of Arithmetic Expressions  \n\nHere are some examples of common arithmetic expressions:  \n\n- **Addition**: `5 + 3 = 8`  \n- **Subtraction**: `10 - 4 = 6`  \n- **Multiplication**: `6 * 7 = 42`  \n- **Division**: `20 / 5 = 4`  \n- **Modulo (rest of division)**: `17% 3 = 2`  \n- **Exponentiation**: `2 ** 3 = 8`  \n- **Parenthesis for the priority of operations**:  \n  `(5 + 3) * 2 = 16` while `5 + (3 * 2) = 11`",
      "metadata": {}
    },
    {
      "id": "1028ee65-7093-4844-b6fc-afac659929a7",
      "cell_type": "code",
      "source": "# Multiplication and addition of numbers\na = 6\nb = 4\nc = 3\n\nmultiplication = a * b # 6 * 4 = 24\naddition = multiplication + c# 24 + 3 = 27\n\nprint(\"Multiplication:\", multiplication)\nprint(\"Addition:\", addition)",
      "metadata": {
        "trusted": true
      },
      "outputs": [
        {
          "name": "stdout",
          "output_type": "stream",
          "text": "Multiplication: 24\nAddition: 27\n"
        }
      ],
      "execution_count": 5
    },
    {
      "id": "eab55428-b48e-4a7b-885c-257b8da531ef",
      "cell_type": "code",
      "source": "# Convert minutes to hours\ndef minutes_to_hours(minutes):\n    hours = minutes / 60\n    return hours\n\n# Example: converting 150 minutes to hours\nminutes = 150\nhours = minutes_to_hours(minutes)\n\nprint(f\"{minutes} minutes is {hours:.2f} hours.\")",
      "metadata": {
        "trusted": true
      },
      "outputs": [
        {
          "name": "stdout",
          "output_type": "stream",
          "text": "150 minutes is 2.50 hours.\n"
        }
      ],
      "execution_count": 6
    },
    {
      "id": "7a41a372-be9d-4020-b0fe-2fab77960ecb",
      "cell_type": "markdown",
      "source": "# Objectives  \n\nThe main objectives of this notebook are:  \n\n- **Understand JupyterLite** and how to use Markdown and code cells.  \n- **Practice Markdown formatting** such as headers, lists, and tables.  \n- **Perform basic arithmetic operations** using Python.  \n- **Convert time units** (e.g., minutes to hours) with Python functions.  \n- **Explore data science tools and libraries**.  \n- **Enhance problem-solving skills** through exercises.  \n",
      "metadata": {}
    },
    {
      "id": "f6efdba7-45f0-4c9a-96da-da0f83412bf5",
      "cell_type": "markdown",
      "source": "# Author  \n\n**Name:** Mandifera  \n**Date:** February 20, 2025  \n",
      "metadata": {}
    },
    {
      "id": "51d73a5c-2586-435f-8593-b3897afe7cf8",
      "cell_type": "code",
      "source": "",
      "metadata": {
        "trusted": true
      },
      "outputs": [],
      "execution_count": null
    }
  ]
}